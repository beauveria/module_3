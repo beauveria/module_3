{
 "cells": [
  {
   "cell_type": "markdown",
   "metadata": {},
   "source": [
    "# Trip advisor rating predictor"
   ]
  },
  {
   "cell_type": "code",
   "execution_count": 1,
   "metadata": {},
   "outputs": [
    {
     "data": {
      "text/html": [
       "<div>\n",
       "<style scoped>\n",
       "    .dataframe tbody tr th:only-of-type {\n",
       "        vertical-align: middle;\n",
       "    }\n",
       "\n",
       "    .dataframe tbody tr th {\n",
       "        vertical-align: top;\n",
       "    }\n",
       "\n",
       "    .dataframe thead th {\n",
       "        text-align: right;\n",
       "    }\n",
       "</style>\n",
       "<table border=\"1\" class=\"dataframe\">\n",
       "  <thead>\n",
       "    <tr style=\"text-align: right;\">\n",
       "      <th></th>\n",
       "      <th>Restaurant_id</th>\n",
       "      <th>City</th>\n",
       "      <th>Cuisine_Style</th>\n",
       "      <th>Rankling</th>\n",
       "      <th>Rating</th>\n",
       "      <th>Price_range</th>\n",
       "      <th>Reviews_number</th>\n",
       "      <th>Reviews</th>\n",
       "      <th>URL_TA</th>\n",
       "      <th>ID_TA</th>\n",
       "    </tr>\n",
       "  </thead>\n",
       "  <tbody>\n",
       "    <tr>\n",
       "      <th>0</th>\n",
       "      <td>id_5569</td>\n",
       "      <td>Paris</td>\n",
       "      <td>['European', 'French', 'International']</td>\n",
       "      <td>5570.0</td>\n",
       "      <td>3.5</td>\n",
       "      <td>$$ - $$$</td>\n",
       "      <td>194.0</td>\n",
       "      <td>[['Good food at your doorstep', 'A good hotel ...</td>\n",
       "      <td>/Restaurant_Review-g187147-d1912643-Reviews-R_...</td>\n",
       "      <td>d1912643</td>\n",
       "    </tr>\n",
       "    <tr>\n",
       "      <th>1</th>\n",
       "      <td>id_1535</td>\n",
       "      <td>Stockholm</td>\n",
       "      <td>NaN</td>\n",
       "      <td>1537.0</td>\n",
       "      <td>4.0</td>\n",
       "      <td>NaN</td>\n",
       "      <td>10.0</td>\n",
       "      <td>[['Unique cuisine', 'Delicious Nepalese food']...</td>\n",
       "      <td>/Restaurant_Review-g189852-d7992032-Reviews-Bu...</td>\n",
       "      <td>d7992032</td>\n",
       "    </tr>\n",
       "    <tr>\n",
       "      <th>2</th>\n",
       "      <td>id_352</td>\n",
       "      <td>London</td>\n",
       "      <td>['Japanese', 'Sushi', 'Asian', 'Grill', 'Veget...</td>\n",
       "      <td>353.0</td>\n",
       "      <td>4.5</td>\n",
       "      <td>$$$$</td>\n",
       "      <td>688.0</td>\n",
       "      <td>[['Catch up with friends', 'Not exceptional'],...</td>\n",
       "      <td>/Restaurant_Review-g186338-d8632781-Reviews-RO...</td>\n",
       "      <td>d8632781</td>\n",
       "    </tr>\n",
       "    <tr>\n",
       "      <th>3</th>\n",
       "      <td>id_3456</td>\n",
       "      <td>Berlin</td>\n",
       "      <td>NaN</td>\n",
       "      <td>3458.0</td>\n",
       "      <td>5.0</td>\n",
       "      <td>NaN</td>\n",
       "      <td>3.0</td>\n",
       "      <td>[[], []]</td>\n",
       "      <td>/Restaurant_Review-g187323-d1358776-Reviews-Es...</td>\n",
       "      <td>d1358776</td>\n",
       "    </tr>\n",
       "    <tr>\n",
       "      <th>4</th>\n",
       "      <td>id_615</td>\n",
       "      <td>Munich</td>\n",
       "      <td>['German', 'Central European', 'Vegetarian Fri...</td>\n",
       "      <td>621.0</td>\n",
       "      <td>4.0</td>\n",
       "      <td>$$ - $$$</td>\n",
       "      <td>84.0</td>\n",
       "      <td>[['Best place to try a Bavarian food', 'Nice b...</td>\n",
       "      <td>/Restaurant_Review-g187309-d6864963-Reviews-Au...</td>\n",
       "      <td>d6864963</td>\n",
       "    </tr>\n",
       "  </tbody>\n",
       "</table>\n",
       "</div>"
      ],
      "text/plain": [
       "  Restaurant_id       City                                      Cuisine_Style  \\\n",
       "0       id_5569      Paris            ['European', 'French', 'International']   \n",
       "1       id_1535  Stockholm                                                NaN   \n",
       "2        id_352     London  ['Japanese', 'Sushi', 'Asian', 'Grill', 'Veget...   \n",
       "3       id_3456     Berlin                                                NaN   \n",
       "4        id_615     Munich  ['German', 'Central European', 'Vegetarian Fri...   \n",
       "\n",
       "   Rankling  Rating Price_range  Reviews_number  \\\n",
       "0    5570.0     3.5    $$ - $$$           194.0   \n",
       "1    1537.0     4.0         NaN            10.0   \n",
       "2     353.0     4.5        $$$$           688.0   \n",
       "3    3458.0     5.0         NaN             3.0   \n",
       "4     621.0     4.0    $$ - $$$            84.0   \n",
       "\n",
       "                                             Reviews  \\\n",
       "0  [['Good food at your doorstep', 'A good hotel ...   \n",
       "1  [['Unique cuisine', 'Delicious Nepalese food']...   \n",
       "2  [['Catch up with friends', 'Not exceptional'],...   \n",
       "3                                           [[], []]   \n",
       "4  [['Best place to try a Bavarian food', 'Nice b...   \n",
       "\n",
       "                                              URL_TA     ID_TA  \n",
       "0  /Restaurant_Review-g187147-d1912643-Reviews-R_...  d1912643  \n",
       "1  /Restaurant_Review-g189852-d7992032-Reviews-Bu...  d7992032  \n",
       "2  /Restaurant_Review-g186338-d8632781-Reviews-RO...  d8632781  \n",
       "3  /Restaurant_Review-g187323-d1358776-Reviews-Es...  d1358776  \n",
       "4  /Restaurant_Review-g187309-d6864963-Reviews-Au...  d6864963  "
      ]
     },
     "execution_count": 1,
     "metadata": {},
     "output_type": "execute_result"
    }
   ],
   "source": [
    "import pandas as pd\n",
    "df = pd.read_csv('main_task.xls')\n",
    "df.columns=['Restaurant_id', 'City', 'Cuisine_Style','Rankling', 'Rating', 'Price_range', 'Reviews_number', 'Reviews','URL_TA', 'ID_TA']\n",
    "df.head(5)"
   ]
  },
  {
   "cell_type": "code",
   "execution_count": 2,
   "metadata": {},
   "outputs": [
    {
     "name": "stdout",
     "output_type": "stream",
     "text": [
      "<class 'pandas.core.frame.DataFrame'>\n",
      "RangeIndex: 40000 entries, 0 to 39999\n",
      "Data columns (total 10 columns):\n",
      " #   Column          Non-Null Count  Dtype  \n",
      "---  ------          --------------  -----  \n",
      " 0   Restaurant_id   40000 non-null  object \n",
      " 1   City            40000 non-null  object \n",
      " 2   Cuisine_Style   30717 non-null  object \n",
      " 3   Rankling        40000 non-null  float64\n",
      " 4   Rating          40000 non-null  float64\n",
      " 5   Price_range     26114 non-null  object \n",
      " 6   Reviews_number  37457 non-null  float64\n",
      " 7   Reviews         40000 non-null  object \n",
      " 8   URL_TA          40000 non-null  object \n",
      " 9   ID_TA           40000 non-null  object \n",
      "dtypes: float64(3), object(7)\n",
      "memory usage: 3.1+ MB\n"
     ]
    }
   ],
   "source": [
    "df.info()"
   ]
  },
  {
   "cell_type": "markdown",
   "metadata": {},
   "source": [
    "# 1. Обработка пропусков\n",
    "Пропуски есть в колонках \"Cuisine_Style\", \"Price_range\" и \"Reviews_number\". Заполним их.\n",
    "\n",
    "1.1. Cuisine_Style"
   ]
  },
  {
   "cell_type": "code",
   "execution_count": 3,
   "metadata": {},
   "outputs": [
    {
     "data": {
      "text/plain": [
       "[('Vegetarian Friendly', 11189), ('European', 10060)]"
      ]
     },
     "execution_count": 3,
     "metadata": {},
     "output_type": "execute_result"
    }
   ],
   "source": [
    "df.Cuisine_Style=df.Cuisine_Style.fillna(\"'no info'\") \n",
    "#Это техническая запись, чтобы собрать информацию о наиболее частых вариантах кухни.\n",
    "cuisine_list=[]\n",
    "df.Cuisine_Style=df.Cuisine_Style.apply(lambda x: x[1:-1].replace(\"'\", \"\").split(', '))\n",
    "df.Cuisine_Style.apply(lambda x:cuisine_list.extend(x))\n",
    "from collections import Counter\n",
    "Counter(cuisine_list).most_common(2) "
   ]
  },
  {
   "cell_type": "code",
   "execution_count": 4,
   "metadata": {},
   "outputs": [],
   "source": [
    "#Заменим пропуски на список, содержащий два самых популярных элемента кухни.\n",
    "df.Cuisine_Style=df.Cuisine_Style.apply(lambda x:str(x)[1:-1].replace(\"'no info'\",\"'Vegetarian Friendly', 'European', 'Italian'\").split(', '))\n"
   ]
  },
  {
   "cell_type": "markdown",
   "metadata": {},
   "source": [
    "1.2. Price_range"
   ]
  },
  {
   "cell_type": "code",
   "execution_count": 5,
   "metadata": {},
   "outputs": [
    {
     "data": {
      "text/plain": [
       "$$ - $$$    18412\n",
       "$            6279\n",
       "$$$$         1423\n",
       "Name: Price_range, dtype: int64"
      ]
     },
     "execution_count": 5,
     "metadata": {},
     "output_type": "execute_result"
    }
   ],
   "source": [
    "df.Price_range.value_counts()"
   ]
  },
  {
   "cell_type": "code",
   "execution_count": 6,
   "metadata": {},
   "outputs": [],
   "source": [
    "#Самый частый вариант - средний ценовой диапозон. На него и заменим.\n",
    "df.Price_range=df.Price_range.fillna('$$ - $$$')"
   ]
  },
  {
   "cell_type": "markdown",
   "metadata": {},
   "source": [
    "1.3. Reviews_number"
   ]
  },
  {
   "cell_type": "code",
   "execution_count": 7,
   "metadata": {},
   "outputs": [
    {
     "data": {
      "text/plain": [
       "<AxesSubplot:>"
      ]
     },
     "execution_count": 7,
     "metadata": {},
     "output_type": "execute_result"
    },
    {
     "data": {
      "image/png": "[encoded data removed]",
      "text/plain": [
       "<Figure size 432x288 with 1 Axes>"
      ]
     },
     "metadata": {
      "needs_background": "light"
     },
     "output_type": "display_data"
    }
   ],
   "source": [
    "# Здесь нужно посмотреть распределение признака\n",
    "df.Reviews_number.hist(bins=30,)"
   ]
  },
  {
   "cell_type": "code",
   "execution_count": 8,
   "metadata": {},
   "outputs": [
    {
     "name": "stdout",
     "output_type": "stream",
     "text": [
      "124.82547988359985 33.0\n",
      "2.0     1916\n",
      "3.0     1636\n",
      "4.0     1370\n",
      "5.0     1181\n",
      "6.0     1018\n",
      "7.0      890\n",
      "8.0      829\n",
      "9.0      769\n",
      "10.0     688\n",
      "11.0     651\n",
      "Name: Reviews_number, dtype: int64\n"
     ]
    }
   ],
   "source": [
    "#А также посмотреть на  среднее значение, медиану и моду признака\n",
    "print(df.Reviews_number.mean(), df.Reviews_number.median())\n",
    "print(df.Reviews_number.value_counts().head(10))"
   ]
  },
  {
   "cell_type": "code",
   "execution_count": 9,
   "metadata": {},
   "outputs": [],
   "source": [
    "# Для большинства ресторанов количество отзывов не превышает 10. Можно спокойно заменить пропуски модой, равной 2.\n",
    "df.Reviews_number=df.Reviews_number.fillna(2)"
   ]
  },
  {
   "cell_type": "markdown",
   "metadata": {},
   "source": [
    "# 2. Добавление признаков"
   ]
  },
  {
   "cell_type": "code",
   "execution_count": 10,
   "metadata": {},
   "outputs": [
    {
     "data": {
      "text/html": [
       "<div>\n",
       "<style scoped>\n",
       "    .dataframe tbody tr th:only-of-type {\n",
       "        vertical-align: middle;\n",
       "    }\n",
       "\n",
       "    .dataframe tbody tr th {\n",
       "        vertical-align: top;\n",
       "    }\n",
       "\n",
       "    .dataframe thead th {\n",
       "        text-align: right;\n",
       "    }\n",
       "</style>\n",
       "<table border=\"1\" class=\"dataframe\">\n",
       "  <thead>\n",
       "    <tr style=\"text-align: right;\">\n",
       "      <th></th>\n",
       "      <th>city</th>\n",
       "      <th>city_ascii</th>\n",
       "      <th>lat</th>\n",
       "      <th>lng</th>\n",
       "      <th>country</th>\n",
       "      <th>iso2</th>\n",
       "      <th>iso3</th>\n",
       "      <th>admin_name</th>\n",
       "      <th>capital</th>\n",
       "      <th>population</th>\n",
       "      <th>id</th>\n",
       "    </tr>\n",
       "  </thead>\n",
       "  <tbody>\n",
       "    <tr>\n",
       "      <th>1848</th>\n",
       "      <td>Bilāspur</td>\n",
       "      <td>Bilaspur</td>\n",
       "      <td>22.1500</td>\n",
       "      <td>82.0167</td>\n",
       "      <td>India</td>\n",
       "      <td>IN</td>\n",
       "      <td>IND</td>\n",
       "      <td>Chhattīsgarh</td>\n",
       "      <td>NaN</td>\n",
       "      <td>331030.0</td>\n",
       "      <td>1356820491</td>\n",
       "    </tr>\n",
       "    <tr>\n",
       "      <th>12873</th>\n",
       "      <td>Oer-Erkenschwick</td>\n",
       "      <td>Oer-Erkenschwick</td>\n",
       "      <td>51.6422</td>\n",
       "      <td>7.2508</td>\n",
       "      <td>Germany</td>\n",
       "      <td>DE</td>\n",
       "      <td>DEU</td>\n",
       "      <td>North Rhine-Westphalia</td>\n",
       "      <td>NaN</td>\n",
       "      <td>31442.0</td>\n",
       "      <td>1276269090</td>\n",
       "    </tr>\n",
       "    <tr>\n",
       "      <th>4307</th>\n",
       "      <td>Sandy Springs</td>\n",
       "      <td>Sandy Springs</td>\n",
       "      <td>33.9366</td>\n",
       "      <td>-84.3703</td>\n",
       "      <td>United States</td>\n",
       "      <td>US</td>\n",
       "      <td>USA</td>\n",
       "      <td>Georgia</td>\n",
       "      <td>NaN</td>\n",
       "      <td>109452.0</td>\n",
       "      <td>1840015609</td>\n",
       "    </tr>\n",
       "    <tr>\n",
       "      <th>20643</th>\n",
       "      <td>Burlington</td>\n",
       "      <td>Burlington</td>\n",
       "      <td>41.7598</td>\n",
       "      <td>-72.9589</td>\n",
       "      <td>United States</td>\n",
       "      <td>US</td>\n",
       "      <td>USA</td>\n",
       "      <td>Connecticut</td>\n",
       "      <td>NaN</td>\n",
       "      <td>9607.0</td>\n",
       "      <td>1840034217</td>\n",
       "    </tr>\n",
       "    <tr>\n",
       "      <th>11602</th>\n",
       "      <td>Vernon</td>\n",
       "      <td>Vernon</td>\n",
       "      <td>50.2670</td>\n",
       "      <td>-119.2720</td>\n",
       "      <td>Canada</td>\n",
       "      <td>CA</td>\n",
       "      <td>CAN</td>\n",
       "      <td>British Columbia</td>\n",
       "      <td>NaN</td>\n",
       "      <td>44600.0</td>\n",
       "      <td>1124553338</td>\n",
       "    </tr>\n",
       "  </tbody>\n",
       "</table>\n",
       "</div>"
      ],
      "text/plain": [
       "                   city        city_ascii      lat       lng        country  \\\n",
       "1848           Bilāspur          Bilaspur  22.1500   82.0167          India   \n",
       "12873  Oer-Erkenschwick  Oer-Erkenschwick  51.6422    7.2508        Germany   \n",
       "4307      Sandy Springs     Sandy Springs  33.9366  -84.3703  United States   \n",
       "20643        Burlington        Burlington  41.7598  -72.9589  United States   \n",
       "11602            Vernon            Vernon  50.2670 -119.2720         Canada   \n",
       "\n",
       "      iso2 iso3              admin_name capital  population          id  \n",
       "1848    IN  IND            Chhattīsgarh     NaN    331030.0  1356820491  \n",
       "12873   DE  DEU  North Rhine-Westphalia     NaN     31442.0  1276269090  \n",
       "4307    US  USA                 Georgia     NaN    109452.0  1840015609  \n",
       "20643   US  USA             Connecticut     NaN      9607.0  1840034217  \n",
       "11602   CA  CAN        British Columbia     NaN     44600.0  1124553338  "
      ]
     },
     "execution_count": 10,
     "metadata": {},
     "output_type": "execute_result"
    }
   ],
   "source": [
    "cityes = pd.read_csv('worldcities.csv')\n",
    "cityes.sample(5) #Список городов мира. "
   ]
  },
  {
   "cell_type": "code",
   "execution_count": 11,
   "metadata": {},
   "outputs": [],
   "source": [
    "#Здесь нам интересно только население. Лишнее удаляем.\n",
    "cityes=cityes.drop(['city_ascii', 'lat', 'lng', 'iso2', 'iso3',\n",
    "       'admin_name', 'capital', 'id'], axis=1)"
   ]
  },
  {
   "cell_type": "code",
   "execution_count": 12,
   "metadata": {},
   "outputs": [
    {
     "data": {
      "text/plain": [
       "{'Amsterdam',\n",
       " 'Athens',\n",
       " 'Barcelona',\n",
       " 'Berlin',\n",
       " 'Bratislava',\n",
       " 'Brussels',\n",
       " 'Budapest',\n",
       " 'Copenhagen',\n",
       " 'Dublin',\n",
       " 'Edinburgh',\n",
       " 'Geneva',\n",
       " 'Hamburg',\n",
       " 'Helsinki',\n",
       " 'Krakow',\n",
       " 'Lisbon',\n",
       " 'Ljubljana',\n",
       " 'London',\n",
       " 'Luxembourg',\n",
       " 'Lyon',\n",
       " 'Madrid',\n",
       " 'Milan',\n",
       " 'Munich',\n",
       " 'Oporto',\n",
       " 'Oslo',\n",
       " 'Paris',\n",
       " 'Prague',\n",
       " 'Rome',\n",
       " 'Stockholm',\n",
       " 'Vienna',\n",
       " 'Warsaw',\n",
       " 'Zurich'}"
      ]
     },
     "execution_count": 12,
     "metadata": {},
     "output_type": "execute_result"
    }
   ],
   "source": [
    "#Посмотрим, какие города есть списке городов первоначального фрейма.\n",
    "small_city_list=set()\n",
    "df.City.apply(lambda x:small_city_list.add(x))\n",
    "small_city_list"
   ]
  },
  {
   "cell_type": "code",
   "execution_count": 13,
   "metadata": {},
   "outputs": [
    {
     "data": {
      "text/html": [
       "<div>\n",
       "<style scoped>\n",
       "    .dataframe tbody tr th:only-of-type {\n",
       "        vertical-align: middle;\n",
       "    }\n",
       "\n",
       "    .dataframe tbody tr th {\n",
       "        vertical-align: top;\n",
       "    }\n",
       "\n",
       "    .dataframe thead th {\n",
       "        text-align: right;\n",
       "    }\n",
       "</style>\n",
       "<table border=\"1\" class=\"dataframe\">\n",
       "  <thead>\n",
       "    <tr style=\"text-align: right;\">\n",
       "      <th></th>\n",
       "      <th>city</th>\n",
       "      <th>country</th>\n",
       "      <th>population</th>\n",
       "    </tr>\n",
       "  </thead>\n",
       "  <tbody>\n",
       "    <tr>\n",
       "      <th>23057</th>\n",
       "      <td>Milan</td>\n",
       "      <td>United States</td>\n",
       "      <td>7201.0</td>\n",
       "    </tr>\n",
       "    <tr>\n",
       "      <th>739</th>\n",
       "      <td>Athens</td>\n",
       "      <td>Greece</td>\n",
       "      <td>664046.0</td>\n",
       "    </tr>\n",
       "    <tr>\n",
       "      <th>22928</th>\n",
       "      <td>Geneva</td>\n",
       "      <td>United States</td>\n",
       "      <td>7317.0</td>\n",
       "    </tr>\n",
       "    <tr>\n",
       "      <th>16727</th>\n",
       "      <td>Vienna</td>\n",
       "      <td>United States</td>\n",
       "      <td>16485.0</td>\n",
       "    </tr>\n",
       "    <tr>\n",
       "      <th>15305</th>\n",
       "      <td>Dublin</td>\n",
       "      <td>United States</td>\n",
       "      <td>20583.0</td>\n",
       "    </tr>\n",
       "  </tbody>\n",
       "</table>\n",
       "</div>"
      ],
      "text/plain": [
       "         city        country  population\n",
       "23057   Milan  United States      7201.0\n",
       "739    Athens         Greece    664046.0\n",
       "22928  Geneva  United States      7317.0\n",
       "16727  Vienna  United States     16485.0\n",
       "15305  Dublin  United States     20583.0"
      ]
     },
     "execution_count": 13,
     "metadata": {},
     "output_type": "execute_result"
    }
   ],
   "source": [
    "#Выберем только эти города из большого фрейма.\n",
    "cityes=cityes.loc[cityes.city.isin(small_city_list)]\n",
    "cityes.sample(5)"
   ]
  },
  {
   "cell_type": "code",
   "execution_count": 14,
   "metadata": {},
   "outputs": [
    {
     "data": {
      "text/plain": [
       "{'Krakow', 'Oporto', 'Zurich'}"
      ]
     },
     "execution_count": 14,
     "metadata": {},
     "output_type": "execute_result"
    }
   ],
   "source": [
    "#Топонимика Америки не отличается оригинальностью. Надо выбросить из фрейма заокеанских тёзок.\n",
    "cityes=cityes.loc[(cityes.country!='United States') & (cityes.country!='Canada')& (cityes.country!='Venezuela')]\n",
    "# формируем новый список городов. Смотрим, чего не хватает.\n",
    "big_city_list=set()\n",
    "cityes.city.apply(lambda x:big_city_list.add(x))\n",
    "small_city_list-big_city_list"
   ]
  },
  {
   "cell_type": "code",
   "execution_count": 15,
   "metadata": {},
   "outputs": [
    {
     "data": {
      "text/html": [
       "<div>\n",
       "<style scoped>\n",
       "    .dataframe tbody tr th:only-of-type {\n",
       "        vertical-align: middle;\n",
       "    }\n",
       "\n",
       "    .dataframe tbody tr th {\n",
       "        vertical-align: top;\n",
       "    }\n",
       "\n",
       "    .dataframe thead th {\n",
       "        text-align: right;\n",
       "    }\n",
       "</style>\n",
       "<table border=\"1\" class=\"dataframe\">\n",
       "  <thead>\n",
       "    <tr style=\"text-align: right;\">\n",
       "      <th></th>\n",
       "      <th>city</th>\n",
       "      <th>country</th>\n",
       "      <th>population</th>\n",
       "    </tr>\n",
       "  </thead>\n",
       "  <tbody>\n",
       "    <tr>\n",
       "      <th>780</th>\n",
       "      <td>Brussels</td>\n",
       "      <td>Belgium</td>\n",
       "      <td>185103.0</td>\n",
       "    </tr>\n",
       "    <tr>\n",
       "      <th>789</th>\n",
       "      <td>Luxembourg</td>\n",
       "      <td>Luxembourg</td>\n",
       "      <td>122273.0</td>\n",
       "    </tr>\n",
       "    <tr>\n",
       "      <th>1309</th>\n",
       "      <td>Lyon</td>\n",
       "      <td>France</td>\n",
       "      <td>516092.0</td>\n",
       "    </tr>\n",
       "    <tr>\n",
       "      <th>1395</th>\n",
       "      <td>Edinburgh</td>\n",
       "      <td>United Kingdom</td>\n",
       "      <td>488050.0</td>\n",
       "    </tr>\n",
       "    <tr>\n",
       "      <th>2585</th>\n",
       "      <td>Geneva</td>\n",
       "      <td>Switzerland</td>\n",
       "      <td>201818.0</td>\n",
       "    </tr>\n",
       "  </tbody>\n",
       "</table>\n",
       "</div>"
      ],
      "text/plain": [
       "            city         country  population\n",
       "780     Brussels         Belgium    185103.0\n",
       "789   Luxembourg      Luxembourg    122273.0\n",
       "1309        Lyon          France    516092.0\n",
       "1395   Edinburgh  United Kingdom    488050.0\n",
       "2585      Geneva     Switzerland    201818.0"
      ]
     },
     "execution_count": 15,
     "metadata": {},
     "output_type": "execute_result"
    }
   ],
   "source": [
    "cityes.tail(5)"
   ]
  },
  {
   "cell_type": "code",
   "execution_count": 16,
   "metadata": {},
   "outputs": [
    {
     "name": "stdout",
     "output_type": "stream",
     "text": [
      "<class 'pandas.core.frame.DataFrame'>\n",
      "Int64Index: 31 entries, 33 to 2588\n",
      "Data columns (total 3 columns):\n",
      " #   Column      Non-Null Count  Dtype  \n",
      "---  ------      --------------  -----  \n",
      " 0   city        31 non-null     object \n",
      " 1   country     31 non-null     object \n",
      " 2   population  31 non-null     float64\n",
      "dtypes: float64(1), object(2)\n",
      "memory usage: 992.0+ bytes\n"
     ]
    }
   ],
   "source": [
    "#Данные для них придётся вносить вручную.\n",
    "cityes.loc[2586]=['Krakow', 'Poland',779115]\n",
    "cityes.loc[2587]=['Oporto', 'Portugal',240000]\n",
    "cityes.loc[2588]=['Zurich', 'Germany',1300000]\n",
    "cityes.info()"
   ]
  },
  {
   "cell_type": "code",
   "execution_count": 17,
   "metadata": {},
   "outputs": [
    {
     "data": {
      "text/html": [
       "<div>\n",
       "<style scoped>\n",
       "    .dataframe tbody tr th:only-of-type {\n",
       "        vertical-align: middle;\n",
       "    }\n",
       "\n",
       "    .dataframe tbody tr th {\n",
       "        vertical-align: top;\n",
       "    }\n",
       "\n",
       "    .dataframe thead th {\n",
       "        text-align: right;\n",
       "    }\n",
       "</style>\n",
       "<table border=\"1\" class=\"dataframe\">\n",
       "  <thead>\n",
       "    <tr style=\"text-align: right;\">\n",
       "      <th></th>\n",
       "      <th>city</th>\n",
       "      <th>country</th>\n",
       "      <th>population</th>\n",
       "    </tr>\n",
       "  </thead>\n",
       "  <tbody>\n",
       "    <tr>\n",
       "      <th>33</th>\n",
       "      <td>Paris</td>\n",
       "      <td>France</td>\n",
       "      <td>11020000.0</td>\n",
       "    </tr>\n",
       "    <tr>\n",
       "      <th>34</th>\n",
       "      <td>London</td>\n",
       "      <td>United Kingdom</td>\n",
       "      <td>10979000.0</td>\n",
       "    </tr>\n",
       "    <tr>\n",
       "      <th>163</th>\n",
       "      <td>Barcelona</td>\n",
       "      <td>Spain</td>\n",
       "      <td>4588000.0</td>\n",
       "    </tr>\n",
       "    <tr>\n",
       "      <th>215</th>\n",
       "      <td>Berlin</td>\n",
       "      <td>Germany</td>\n",
       "      <td>3644826.0</td>\n",
       "    </tr>\n",
       "    <tr>\n",
       "      <th>238</th>\n",
       "      <td>Madrid</td>\n",
       "      <td>Spain</td>\n",
       "      <td>3266126.0</td>\n",
       "    </tr>\n",
       "    <tr>\n",
       "      <th>280</th>\n",
       "      <td>Rome</td>\n",
       "      <td>Italy</td>\n",
       "      <td>2872800.0</td>\n",
       "    </tr>\n",
       "    <tr>\n",
       "      <th>408</th>\n",
       "      <td>Vienna</td>\n",
       "      <td>Austria</td>\n",
       "      <td>1840573.0</td>\n",
       "    </tr>\n",
       "    <tr>\n",
       "      <th>410</th>\n",
       "      <td>Hamburg</td>\n",
       "      <td>Germany</td>\n",
       "      <td>1841179.0</td>\n",
       "    </tr>\n",
       "    <tr>\n",
       "      <th>422</th>\n",
       "      <td>Warsaw</td>\n",
       "      <td>Poland</td>\n",
       "      <td>1790658.0</td>\n",
       "    </tr>\n",
       "    <tr>\n",
       "      <th>429</th>\n",
       "      <td>Budapest</td>\n",
       "      <td>Hungary</td>\n",
       "      <td>1752286.0</td>\n",
       "    </tr>\n",
       "    <tr>\n",
       "      <th>498</th>\n",
       "      <td>Munich</td>\n",
       "      <td>Germany</td>\n",
       "      <td>1471508.0</td>\n",
       "    </tr>\n",
       "    <tr>\n",
       "      <th>536</th>\n",
       "      <td>Milan</td>\n",
       "      <td>Italy</td>\n",
       "      <td>1351562.0</td>\n",
       "    </tr>\n",
       "    <tr>\n",
       "      <th>545</th>\n",
       "      <td>Prague</td>\n",
       "      <td>Czechia</td>\n",
       "      <td>1324277.0</td>\n",
       "    </tr>\n",
       "    <tr>\n",
       "      <th>601</th>\n",
       "      <td>Dublin</td>\n",
       "      <td>Ireland</td>\n",
       "      <td>1173179.0</td>\n",
       "    </tr>\n",
       "    <tr>\n",
       "      <th>651</th>\n",
       "      <td>Copenhagen</td>\n",
       "      <td>Denmark</td>\n",
       "      <td>1085000.0</td>\n",
       "    </tr>\n",
       "    <tr>\n",
       "      <th>685</th>\n",
       "      <td>Amsterdam</td>\n",
       "      <td>Netherlands</td>\n",
       "      <td>1031000.0</td>\n",
       "    </tr>\n",
       "    <tr>\n",
       "      <th>717</th>\n",
       "      <td>Stockholm</td>\n",
       "      <td>Sweden</td>\n",
       "      <td>972647.0</td>\n",
       "    </tr>\n",
       "    <tr>\n",
       "      <th>737</th>\n",
       "      <td>Oslo</td>\n",
       "      <td>Norway</td>\n",
       "      <td>693494.0</td>\n",
       "    </tr>\n",
       "    <tr>\n",
       "      <th>739</th>\n",
       "      <td>Athens</td>\n",
       "      <td>Greece</td>\n",
       "      <td>664046.0</td>\n",
       "    </tr>\n",
       "    <tr>\n",
       "      <th>741</th>\n",
       "      <td>Helsinki</td>\n",
       "      <td>Finland</td>\n",
       "      <td>642045.0</td>\n",
       "    </tr>\n",
       "    <tr>\n",
       "      <th>748</th>\n",
       "      <td>Lisbon</td>\n",
       "      <td>Portugal</td>\n",
       "      <td>506654.0</td>\n",
       "    </tr>\n",
       "    <tr>\n",
       "      <th>752</th>\n",
       "      <td>Bratislava</td>\n",
       "      <td>Slovakia</td>\n",
       "      <td>429564.0</td>\n",
       "    </tr>\n",
       "    <tr>\n",
       "      <th>770</th>\n",
       "      <td>Ljubljana</td>\n",
       "      <td>Slovenia</td>\n",
       "      <td>284355.0</td>\n",
       "    </tr>\n",
       "    <tr>\n",
       "      <th>780</th>\n",
       "      <td>Brussels</td>\n",
       "      <td>Belgium</td>\n",
       "      <td>185103.0</td>\n",
       "    </tr>\n",
       "    <tr>\n",
       "      <th>789</th>\n",
       "      <td>Luxembourg</td>\n",
       "      <td>Luxembourg</td>\n",
       "      <td>122273.0</td>\n",
       "    </tr>\n",
       "    <tr>\n",
       "      <th>1309</th>\n",
       "      <td>Lyon</td>\n",
       "      <td>France</td>\n",
       "      <td>516092.0</td>\n",
       "    </tr>\n",
       "    <tr>\n",
       "      <th>1395</th>\n",
       "      <td>Edinburgh</td>\n",
       "      <td>United Kingdom</td>\n",
       "      <td>488050.0</td>\n",
       "    </tr>\n",
       "    <tr>\n",
       "      <th>2585</th>\n",
       "      <td>Geneva</td>\n",
       "      <td>Switzerland</td>\n",
       "      <td>201818.0</td>\n",
       "    </tr>\n",
       "    <tr>\n",
       "      <th>2586</th>\n",
       "      <td>Krakow</td>\n",
       "      <td>Poland</td>\n",
       "      <td>779115.0</td>\n",
       "    </tr>\n",
       "    <tr>\n",
       "      <th>2587</th>\n",
       "      <td>Oporto</td>\n",
       "      <td>Portugal</td>\n",
       "      <td>240000.0</td>\n",
       "    </tr>\n",
       "    <tr>\n",
       "      <th>2588</th>\n",
       "      <td>Zurich</td>\n",
       "      <td>Germany</td>\n",
       "      <td>1300000.0</td>\n",
       "    </tr>\n",
       "  </tbody>\n",
       "</table>\n",
       "</div>"
      ],
      "text/plain": [
       "            city         country  population\n",
       "33         Paris          France  11020000.0\n",
       "34        London  United Kingdom  10979000.0\n",
       "163    Barcelona           Spain   4588000.0\n",
       "215       Berlin         Germany   3644826.0\n",
       "238       Madrid           Spain   3266126.0\n",
       "280         Rome           Italy   2872800.0\n",
       "408       Vienna         Austria   1840573.0\n",
       "410      Hamburg         Germany   1841179.0\n",
       "422       Warsaw          Poland   1790658.0\n",
       "429     Budapest         Hungary   1752286.0\n",
       "498       Munich         Germany   1471508.0\n",
       "536        Milan           Italy   1351562.0\n",
       "545       Prague         Czechia   1324277.0\n",
       "601       Dublin         Ireland   1173179.0\n",
       "651   Copenhagen         Denmark   1085000.0\n",
       "685    Amsterdam     Netherlands   1031000.0\n",
       "717    Stockholm          Sweden    972647.0\n",
       "737         Oslo          Norway    693494.0\n",
       "739       Athens          Greece    664046.0\n",
       "741     Helsinki         Finland    642045.0\n",
       "748       Lisbon        Portugal    506654.0\n",
       "752   Bratislava        Slovakia    429564.0\n",
       "770    Ljubljana        Slovenia    284355.0\n",
       "780     Brussels         Belgium    185103.0\n",
       "789   Luxembourg      Luxembourg    122273.0\n",
       "1309        Lyon          France    516092.0\n",
       "1395   Edinburgh  United Kingdom    488050.0\n",
       "2585      Geneva     Switzerland    201818.0\n",
       "2586      Krakow          Poland    779115.0\n",
       "2587      Oporto        Portugal    240000.0\n",
       "2588      Zurich         Germany   1300000.0"
      ]
     },
     "execution_count": 17,
     "metadata": {},
     "output_type": "execute_result"
    }
   ],
   "source": [
    "#Теперь формируем список стран, в которых есть нужные города.\n",
    "country_list=set()\n",
    "cityes.country.apply(lambda x: country_list.add(x))\n",
    "country_list.add('Czech Republic')\n",
    "cityes.head(31)"
   ]
  },
  {
   "cell_type": "code",
   "execution_count": 18,
   "metadata": {},
   "outputs": [],
   "source": [
    "cost=pd.read_csv('cost of living 2020.csv')\n",
    "#Оставим только эти страны в списке стоимости жизни\n",
    "cost=cost.loc[cost.Country.isin(country_list)]\n"
   ]
  },
  {
   "cell_type": "code",
   "execution_count": 19,
   "metadata": {},
   "outputs": [],
   "source": [
    "# Здесь интересен индекс цен с в ресторанах, индекс покупательской способности, индекс стоимости аренды и т.н.\"индекс бигмака\".\n",
    "cost=cost.drop(['Rank 2020',\n",
    "       'Cost of Living Plus Rent Index','Groceries Index', 'Unnamed: 9'],axis=1)"
   ]
  },
  {
   "cell_type": "code",
   "execution_count": 20,
   "metadata": {},
   "outputs": [],
   "source": [
    "#объединяем все три фрейма. Добавляем новые признаки.\n",
    "cityes.loc[545]=['Prague','Czech Republic',1324277.0]\n",
    "cityes=cityes.merge(cost, left_on='country',right_on= 'Country', how='outer')\n",
    "cityes.drop(['Country'],axis=1)\n",
    "df=df.merge(cityes, left_on='City',right_on= 'city', how='outer')\n",
    "df=df.drop(['city'],axis=1)"
   ]
  },
  {
   "cell_type": "code",
   "execution_count": 21,
   "metadata": {
    "scrolled": true
   },
   "outputs": [
    {
     "name": "stdout",
     "output_type": "stream",
     "text": [
      "<class 'pandas.core.frame.DataFrame'>\n",
      "Int64Index: 40000 entries, 0 to 39999\n",
      "Data columns (total 22 columns):\n",
      " #   Column                        Non-Null Count  Dtype  \n",
      "---  ------                        --------------  -----  \n",
      " 0   Restaurant_id                 40000 non-null  object \n",
      " 1   City                          40000 non-null  object \n",
      " 2   Cuisine_Style                 40000 non-null  object \n",
      " 3   Rankling                      40000 non-null  float64\n",
      " 4   Rating                        40000 non-null  float64\n",
      " 5   Price_range                   40000 non-null  object \n",
      " 6   Reviews_number                40000 non-null  float64\n",
      " 7   Reviews                       40000 non-null  object \n",
      " 8   URL_TA                        40000 non-null  object \n",
      " 9   ID_TA                         40000 non-null  object \n",
      " 10  country                       40000 non-null  object \n",
      " 11  population                    40000 non-null  float64\n",
      " 12  Country                       40000 non-null  object \n",
      " 13  Cost of Living Index          40000 non-null  float64\n",
      " 14  Rent Index                    40000 non-null  float64\n",
      " 15  Restaurant Price Index        40000 non-null  float64\n",
      " 16  Local Purchasing Power Index  40000 non-null  float64\n",
      " 17  McMeal($)                     40000 non-null  float64\n",
      " 18  january_temp                  40000 non-null  float64\n",
      " 19  july_temp                     40000 non-null  float64\n",
      " 20  tourists_flow                 40000 non-null  float64\n",
      " 21  rains                         40000 non-null  float64\n",
      "dtypes: float64(13), object(9)\n",
      "memory usage: 7.0+ MB\n"
     ]
    }
   ],
   "source": [
    "#И коротко о погоде. Всё же ежлание человека посетить ресторан зависит от того, какая погода на улице.\n",
    "#Особенно, если этот человек - турист.\n",
    "Jan_temp={'Paris':4.9, 'Stockholm':-2.3, 'London':5.0, 'Berlin':0.7, 'Munich':-0.9, 'Oporto':10,\n",
    "       'Milan':1.1, 'Bratislava':-0.4, 'Vienna':0.3, 'Rome':8.1, 'Barcelona':8.9, 'Madrid':5.9,\n",
    "       'Dublin':5.4, 'Brussels':3.3, 'Zurich':0.4, 'Warsaw':-1.8, 'Budapest':-0.4, 'Copenhagen':1.3,\n",
    "       'Amsterdam':3.3, 'Lyon':2.6, 'Hamburg':1.3, 'Lisbon':11.4, 'Prague':-1.4, 'Oslo':-2.9,\n",
    "       'Helsinki':-5, 'Edinburgh':4, 'Geneva':1.8, 'Ljubljana':-0.5, 'Athens':10.2,\n",
    "       'Luxembourg':0.8, 'Krakow':-3.6}\n",
    "Jul_temp={'Paris':19.4, 'Stockholm':17.9, 'London':18.7, 'Berlin':18.6, 'Munich':17.4, 'Oporto':19.5,\n",
    "       'Milan':1.1, 'Bratislava':-0.4, 'Vienna':0.3, 'Rome':8.1, 'Barcelona':8.9, 'Madrid':5.9,\n",
    "       'Dublin':15.3, 'Brussels':17.6, 'Zurich':18.4, 'Warsaw':18.2, 'Budapest':21.2, 'Copenhagen':17.2,\n",
    "       'Amsterdam':16.5, 'Lyon':21, 'Hamburg':17.3, 'Lisbon':22.4, 'Prague':18.7, 'Oslo':17.1,\n",
    "       'Helsinki':17, 'Edinburgh':14.8, 'Geneva':19.7, 'Ljubljana':20.4, 'Athens':27.9,\n",
    "       'Luxembourg':17.4, 'Krakow':-17.9}\n",
    "tourists={'Paris':16.0, 'Stockholm':2.7, 'London':21.0, 'Berlin':6.2, 'Munich':4.2, 'Oporto':2.8,\n",
    "       'Milan':6.6, 'Bratislava':1, 'Vienna':6.6, 'Rome':10.3, 'Barcelona':7.0, 'Madrid':5.6,\n",
    "       'Dublin':5.4, 'Brussels':4.2, 'Zurich':1.5, 'Warsaw':2.8, 'Budapest':4.0, 'Copenhagen':3.2,\n",
    "       'Amsterdam':8.8, 'Lyon':3.5, 'Hamburg':6.8, 'Lisbon':3.6, 'Prague': 9.1, 'Oslo':0.7,\n",
    "       'Helsinki':0.4, 'Edinburgh':4.4, 'Geneva':1.3, 'Ljubljana':0.4, 'Athens':0.24,\n",
    "       'Luxembourg':0.9, 'Krakow':8.1}\n",
    "rains={'Paris':6.37, 'Stockholm':5.27, 'London':6.21, 'Berlin':5.7, 'Munich':6.22, 'Oporto':11.78,\n",
    "       'Milan':10.13, 'Bratislava':6.94, 'Vienna':10.31, 'Rome':9.34, 'Barcelona':6.12, 'Madrid':4.5,\n",
    "       'Dublin':7.67, 'Brussels':7.82, 'Zurich':10.85, 'Warsaw':10.02, 'Budapest':5.64, 'Copenhagen':11.64,\n",
    "       'Amsterdam':8.05, 'Lyon':7.63, 'Hamburg':7.38, 'Lisbon':6.91, 'Prague': 4.86, 'Oslo':7.40,\n",
    "       'Helsinki':6.5, 'Edinburgh':7.06, 'Geneva':9.34, 'Ljubljana':12.90, 'Athens':3.97,\n",
    "       'Luxembourg':8.31, 'Krakow':6.78}\n",
    "\n",
    "def january_temp_column(C):\n",
    "    for  city in Jan_temp:\n",
    "        if city==C:\n",
    "            return(Jan_temp[city])\n",
    "    \n",
    "df['january_temp']=df['City'].apply(january_temp_column)\n",
    "\n",
    "def july_temp_column(C):\n",
    "    for  city in Jul_temp:\n",
    "        if city==C:\n",
    "            return(Jul_temp[city])\n",
    "        \n",
    "df['july_temp']=df['City'].apply(january_temp_column)\n",
    "\n",
    "def tourist_flow_column(C):\n",
    "    for  city in tourists:\n",
    "        if city==C:\n",
    "            return(tourists[city])\n",
    "        \n",
    "df['tourists_flow']=df['City'].apply(tourist_flow_column)\n",
    "\n",
    "def rain_column(C):\n",
    "    for  city in tourists:\n",
    "        if city==C:\n",
    "            return(rains[city])\n",
    "df['rains']=df['City'].apply(rain_column)  \n",
    "df.info()"
   ]
  },
  {
   "cell_type": "code",
   "execution_count": 22,
   "metadata": {},
   "outputs": [
    {
     "data": {
      "text/html": [
       "<div>\n",
       "<style scoped>\n",
       "    .dataframe tbody tr th:only-of-type {\n",
       "        vertical-align: middle;\n",
       "    }\n",
       "\n",
       "    .dataframe tbody tr th {\n",
       "        vertical-align: top;\n",
       "    }\n",
       "\n",
       "    .dataframe thead th {\n",
       "        text-align: right;\n",
       "    }\n",
       "</style>\n",
       "<table border=\"1\" class=\"dataframe\">\n",
       "  <thead>\n",
       "    <tr style=\"text-align: right;\">\n",
       "      <th></th>\n",
       "      <th>Restaurant_id</th>\n",
       "      <th>City</th>\n",
       "      <th>Cuisine_Style</th>\n",
       "      <th>Rankling</th>\n",
       "      <th>Rating</th>\n",
       "      <th>Price_range</th>\n",
       "      <th>Reviews_number</th>\n",
       "      <th>Reviews</th>\n",
       "      <th>URL_TA</th>\n",
       "      <th>ID_TA</th>\n",
       "      <th>...</th>\n",
       "      <th>'Thai'</th>\n",
       "      <th>'Tibetan'</th>\n",
       "      <th>'Turkish'</th>\n",
       "      <th>'Ukrainian'</th>\n",
       "      <th>'Uzbek'</th>\n",
       "      <th>'Vegan Options'</th>\n",
       "      <th>'Vegetarian Friendly'</th>\n",
       "      <th>'Venezuelan'</th>\n",
       "      <th>'Vietnamese'</th>\n",
       "      <th>'Wine Bar'</th>\n",
       "    </tr>\n",
       "  </thead>\n",
       "  <tbody>\n",
       "    <tr>\n",
       "      <th>29953</th>\n",
       "      <td>id_723</td>\n",
       "      <td>Budapest</td>\n",
       "      <td>21</td>\n",
       "      <td>724.0</td>\n",
       "      <td>4.0</td>\n",
       "      <td>$$ - $$$</td>\n",
       "      <td>28.0</td>\n",
       "      <td>[['Nice restaurant.', 'Beautifully presented d...</td>\n",
       "      <td>/Restaurant_Review-g274887-d9746030-Reviews-Pr...</td>\n",
       "      <td>d9746030</td>\n",
       "      <td>...</td>\n",
       "      <td>0</td>\n",
       "      <td>0</td>\n",
       "      <td>0</td>\n",
       "      <td>0</td>\n",
       "      <td>0</td>\n",
       "      <td>0</td>\n",
       "      <td>1</td>\n",
       "      <td>0</td>\n",
       "      <td>0</td>\n",
       "      <td>0</td>\n",
       "    </tr>\n",
       "    <tr>\n",
       "      <th>24029</th>\n",
       "      <td>id_7709</td>\n",
       "      <td>Madrid</td>\n",
       "      <td>5</td>\n",
       "      <td>7716.0</td>\n",
       "      <td>3.0</td>\n",
       "      <td>$$ - $$$</td>\n",
       "      <td>274.0</td>\n",
       "      <td>[['Close to my Hotel, but a Disappointment', \"...</td>\n",
       "      <td>/Restaurant_Review-g187514-d8026396-Reviews-El...</td>\n",
       "      <td>d8026396</td>\n",
       "      <td>...</td>\n",
       "      <td>0</td>\n",
       "      <td>0</td>\n",
       "      <td>0</td>\n",
       "      <td>0</td>\n",
       "      <td>0</td>\n",
       "      <td>0</td>\n",
       "      <td>0</td>\n",
       "      <td>0</td>\n",
       "      <td>0</td>\n",
       "      <td>0</td>\n",
       "    </tr>\n",
       "  </tbody>\n",
       "</table>\n",
       "<p>2 rows × 129 columns</p>\n",
       "</div>"
      ],
      "text/plain": [
       "      Restaurant_id      City  Cuisine_Style  Rankling  Rating Price_range  \\\n",
       "29953        id_723  Budapest             21     724.0     4.0    $$ - $$$   \n",
       "24029       id_7709    Madrid              5    7716.0     3.0    $$ - $$$   \n",
       "\n",
       "       Reviews_number                                            Reviews  \\\n",
       "29953            28.0  [['Nice restaurant.', 'Beautifully presented d...   \n",
       "24029           274.0  [['Close to my Hotel, but a Disappointment', \"...   \n",
       "\n",
       "                                                  URL_TA     ID_TA  ...  \\\n",
       "29953  /Restaurant_Review-g274887-d9746030-Reviews-Pr...  d9746030  ...   \n",
       "24029  /Restaurant_Review-g187514-d8026396-Reviews-El...  d8026396  ...   \n",
       "\n",
       "      'Thai'  'Tibetan' 'Turkish'  'Ukrainian'  'Uzbek'  'Vegan Options'  \\\n",
       "29953      0          0         0            0        0                0   \n",
       "24029      0          0         0            0        0                0   \n",
       "\n",
       "       'Vegetarian Friendly'  'Venezuelan'  'Vietnamese'  'Wine Bar'  \n",
       "29953                      1             0             0           0  \n",
       "24029                      0             0             0           0  \n",
       "\n",
       "[2 rows x 129 columns]"
      ]
     },
     "execution_count": 22,
     "metadata": {},
     "output_type": "execute_result"
    }
   ],
   "source": [
    "#Какие варианты кухни самые популярные мы уже знаем. Теперь заменим самые непопулярные на 'others'\n",
    "top=list(pd.Series(dict((Counter(cuisine_list).most_common(75)))).index)\n",
    "others=(list(set(cuisine_list)-set(top))) # формируем множество самых редких вариантов\n",
    "def other(cuisines):\n",
    "    for cuisine in cuisines:\n",
    "        if cuisine in others:\n",
    "            return 'other'\n",
    "        else:\n",
    "            return cuisine\n",
    "\n",
    "df['Cuisine_Style']=df['Cuisine_Style'].apply(other) # меняем наименее популярные варианты на \"other\"\n",
    "dummi_cuisine=pd.get_dummies(df['Cuisine_Style'].apply(pd.Series).stack()).sum(level=0) # Создаём сет dummie-переменных\n",
    "df=pd.concat([df,dummi_cuisine], axis=1) # Соединяем с сетом \"df\"\n",
    "df['Cuisine_Style']=df['Cuisine_Style'].apply(lambda x: len(x)) # В исходные ячейки возвращаем новый признак\n",
    "df.sample(2) #смотрим, что получилось\n"
   ]
  },
  {
   "cell_type": "markdown",
   "metadata": {},
   "source": [
    "# 3.Обработка других номинативных переменных"
   ]
  },
  {
   "cell_type": "markdown",
   "metadata": {},
   "source": [
    "3.1. Price_range"
   ]
  },
  {
   "cell_type": "code",
   "execution_count": 23,
   "metadata": {},
   "outputs": [],
   "source": [
    "#Просто заменяем на численные значения.\n",
    "def sign_to_range (x):\n",
    "        if x == \"$\":\n",
    "            return 1\n",
    "        elif x == \"$$ - $$$\":\n",
    "            return 2.5\n",
    "        else:\n",
    "            return 4\n",
    "df['Price_range']=df['Price_range'].apply(sign_to_range)"
   ]
  },
  {
   "cell_type": "markdown",
   "metadata": {},
   "source": [
    "# 4. Убираем лишнее."
   ]
  },
  {
   "cell_type": "code",
   "execution_count": 24,
   "metadata": {},
   "outputs": [],
   "source": [
    "df=df.drop(['City','Reviews','URL_TA','ID_TA','Country','country'],axis=1)\n"
   ]
  },
  {
   "cell_type": "markdown",
   "metadata": {},
   "source": [
    "# 5. Разбиваем датафрейм на части, необходимые для обучения и тестирования модели"
   ]
  },
  {
   "cell_type": "code",
   "execution_count": 25,
   "metadata": {},
   "outputs": [],
   "source": [
    "# Х - данные с информацией о ресторанах, у - целевая переменная (рейтинги ресторанов)\n",
    "X = df.drop(['Restaurant_id', 'Rating'], axis = 1)\n",
    "names = X.columns\n",
    "y = df['Rating']\n",
    "#Нормализация лишней не бывает (но это не точно).\n",
    "from sklearn.preprocessing import MinMaxScaler\n",
    "scaler=MinMaxScaler()\n",
    "X = pd.DataFrame(scaler.fit_transform(X))"
   ]
  },
  {
   "cell_type": "code",
   "execution_count": 26,
   "metadata": {},
   "outputs": [],
   "source": [
    "# Загружаем специальный инструмент для разбивки:\n",
    "from sklearn.model_selection import train_test_split\n"
   ]
  },
  {
   "cell_type": "code",
   "execution_count": 27,
   "metadata": {},
   "outputs": [],
   "source": [
    "# Загружаем специальный инструмент для разбивки:\n",
    "from sklearn.model_selection import train_test_split\n",
    "# Наборы данных с меткой \"train\" будут использоваться для обучения модели, \"test\" - для тестирования.\n",
    "# Для тестирования мы будем использовать 25% от исходного датасета.\n",
    "X_train, X_test, y_train, y_test = train_test_split(X, y, test_size=0.25)"
   ]
  },
  {
   "cell_type": "markdown",
   "metadata": {},
   "source": [
    "# Создаём, обучаем и тестируем модель"
   ]
  },
  {
   "cell_type": "code",
   "execution_count": 28,
   "metadata": {},
   "outputs": [],
   "source": [
    "# Импортируем необходимые библиотеки:\n",
    "from sklearn.ensemble import RandomForestRegressor # инструмент для создания и обучения модели\n",
    "from sklearn import metrics # инструменты для оценки точности модели"
   ]
  },
  {
   "cell_type": "code",
   "execution_count": 29,
   "metadata": {},
   "outputs": [],
   "source": [
    "# Создаём модель\n",
    "regr = RandomForestRegressor(n_estimators=100)\n",
    "\n",
    "# Обучаем модель на тестовом наборе данных\n",
    "regr.fit(X_train, y_train)\n",
    "\n",
    "# Используем обученную модель для предсказания рейтинга ресторанов в тестовой выборке.\n",
    "# Предсказанные значения записываем в переменную y_pred\n",
    "y_pred = regr.predict(X_test)"
   ]
  },
  {
   "cell_type": "code",
   "execution_count": 30,
   "metadata": {},
   "outputs": [
    {
     "name": "stdout",
     "output_type": "stream",
     "text": [
      "MAE: 0.211029\n"
     ]
    }
   ],
   "source": [
    "# Сравниваем предсказанные значения (y_pred) с реальными (y_test), и смотрим насколько они в среднем отличаются\n",
    "# Метрика называется Mean Absolute Error (MAE) и показывает среднее отклонение предсказанных значений от фактических.\n",
    "print('MAE:', metrics.mean_absolute_error(y_test, y_pred))"
   ]
  },
  {
   "cell_type": "code",
   "execution_count": 31,
   "metadata": {},
   "outputs": [
    {
     "data": {
      "text/plain": [
       "<AxesSubplot:>"
      ]
     },
     "execution_count": 31,
     "metadata": {},
     "output_type": "execute_result"
    },
    {
     "data": {
      "image/png": "[encoded data removed]",
      "text/plain": [
       "<Figure size 720x720 with 1 Axes>"
      ]
     },
     "metadata": {
      "needs_background": "light"
     },
     "output_type": "display_data"
    }
   ],
   "source": [
    "import matplotlib.pyplot as plt\n",
    "plt.rcParams['figure.figsize'] = (10,10)\n",
    "feat_importances = pd.Series(regr.feature_importances_, index=names)\n",
    "feat_importances.nlargest(15).plot(kind='barh')"
   ]
  },
  {
   "cell_type": "markdown",
   "metadata": {},
   "source": [
    "И так, наиболее важными параметрами, влияющими на рейтинг ресторана являются:\n",
    "-его локальный рейтинг(Rankling);\n",
    "количество отзывов. (Логично, ведь людям больше нравится говорить комплименты,чем гадости.  Это мы поняли из словарей эпитетов);\n",
    "-количество туристов, посещающих город ежегодно;\n",
    "-население города;\n",
    "-количество осадков, выпадающих в данном городе. \n",
    "Вывод: Залог успешного ресторанного бизнеса - бизнес надо открывать там, где есть очень много людей, желающих укрыться от дождя. Важно, чтобы у вас при этом была итальянская кухня. Но можно и без неё.\n",
    "\n"
   ]
  },
  {
   "cell_type": "markdown",
   "metadata": {},
   "source": []
  },
  {
   "cell_type": "code",
   "execution_count": null,
   "metadata": {},
   "outputs": [],
   "source": []
  }
 ],
 "metadata": {
  "kernelspec": {
   "display_name": "Python 3",
   "language": "python",
   "name": "python3"
  },
  "language_info": {
   "codemirror_mode": {
    "name": "ipython",
    "version": 3
   },
   "file_extension": ".py",
   "mimetype": "text/x-python",
   "name": "python",
   "nbconvert_exporter": "python",
   "pygments_lexer": "ipython3",
   "version": "3.7.6"
  }
 },
 "nbformat": 4,
 "nbformat_minor": 4
}
